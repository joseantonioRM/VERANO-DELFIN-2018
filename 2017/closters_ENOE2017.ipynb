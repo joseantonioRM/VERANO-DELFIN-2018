{
 "cells": [
  {
   "cell_type": "code",
   "execution_count": 1,
   "metadata": {},
   "outputs": [],
   "source": [
    "import pandas as pnd #para manejar el dataframe\n",
    "import numpy as np #para abrir el csv\n",
    "import matplotlib.pyplot as plt #para graficar \n",
    "import sklearn as sk #para normalizar los datos\n",
    "from sklearn.cluster import KMeans"
   ]
  },
  {
   "cell_type": "code",
   "execution_count": 2,
   "metadata": {
    "scrolled": true
   },
   "outputs": [
    {
     "data": {
      "text/html": [
       "<div>\n",
       "<style scoped>\n",
       "    .dataframe tbody tr th:only-of-type {\n",
       "        vertical-align: middle;\n",
       "    }\n",
       "\n",
       "    .dataframe tbody tr th {\n",
       "        vertical-align: top;\n",
       "    }\n",
       "\n",
       "    .dataframe thead th {\n",
       "        text-align: right;\n",
       "    }\n",
       "</style>\n",
       "<table border=\"1\" class=\"dataframe\">\n",
       "  <thead>\n",
       "    <tr style=\"text-align: right;\">\n",
       "      <th></th>\n",
       "      <th>0</th>\n",
       "      <th>1</th>\n",
       "      <th>2</th>\n",
       "      <th>3</th>\n",
       "      <th>4</th>\n",
       "      <th>5</th>\n",
       "      <th>6</th>\n",
       "      <th>7</th>\n",
       "      <th>8</th>\n",
       "      <th>9</th>\n",
       "      <th>10</th>\n",
       "      <th>11</th>\n",
       "      <th>12</th>\n",
       "      <th>13</th>\n",
       "      <th>14</th>\n",
       "      <th>15</th>\n",
       "      <th>16</th>\n",
       "      <th>17</th>\n",
       "      <th>18</th>\n",
       "      <th>19</th>\n",
       "    </tr>\n",
       "  </thead>\n",
       "  <tbody>\n",
       "    <tr>\n",
       "      <th>0</th>\n",
       "      <td>0.000001</td>\n",
       "      <td>0.00001</td>\n",
       "      <td>0.044379</td>\n",
       "      <td>0.999015</td>\n",
       "      <td>0.000112</td>\n",
       "      <td>0.000061</td>\n",
       "      <td>0.000002</td>\n",
       "      <td>0.000001</td>\n",
       "      <td>0.0</td>\n",
       "      <td>0.000003</td>\n",
       "      <td>0.00013</td>\n",
       "      <td>0.000001</td>\n",
       "      <td>0.000070</td>\n",
       "      <td>0.000002</td>\n",
       "      <td>0.000004</td>\n",
       "      <td>0.000007</td>\n",
       "      <td>0.000008</td>\n",
       "      <td>0.000004</td>\n",
       "      <td>0.000001</td>\n",
       "      <td>0.00054</td>\n",
       "    </tr>\n",
       "    <tr>\n",
       "      <th>1</th>\n",
       "      <td>0.000001</td>\n",
       "      <td>0.00001</td>\n",
       "      <td>0.044379</td>\n",
       "      <td>0.999015</td>\n",
       "      <td>0.000112</td>\n",
       "      <td>0.000061</td>\n",
       "      <td>0.000002</td>\n",
       "      <td>0.000001</td>\n",
       "      <td>0.0</td>\n",
       "      <td>0.000003</td>\n",
       "      <td>0.00013</td>\n",
       "      <td>0.000002</td>\n",
       "      <td>0.000064</td>\n",
       "      <td>0.000002</td>\n",
       "      <td>0.000110</td>\n",
       "      <td>0.000110</td>\n",
       "      <td>0.000110</td>\n",
       "      <td>0.000110</td>\n",
       "      <td>0.000001</td>\n",
       "      <td>0.00054</td>\n",
       "    </tr>\n",
       "    <tr>\n",
       "      <th>2</th>\n",
       "      <td>0.000001</td>\n",
       "      <td>0.00001</td>\n",
       "      <td>0.044379</td>\n",
       "      <td>0.999015</td>\n",
       "      <td>0.000112</td>\n",
       "      <td>0.000061</td>\n",
       "      <td>0.000002</td>\n",
       "      <td>0.000001</td>\n",
       "      <td>0.0</td>\n",
       "      <td>0.000003</td>\n",
       "      <td>0.00013</td>\n",
       "      <td>0.000003</td>\n",
       "      <td>0.000034</td>\n",
       "      <td>0.000002</td>\n",
       "      <td>0.000008</td>\n",
       "      <td>0.000007</td>\n",
       "      <td>0.000008</td>\n",
       "      <td>0.000004</td>\n",
       "      <td>0.000001</td>\n",
       "      <td>0.00054</td>\n",
       "    </tr>\n",
       "    <tr>\n",
       "      <th>3</th>\n",
       "      <td>0.000001</td>\n",
       "      <td>0.00001</td>\n",
       "      <td>0.044379</td>\n",
       "      <td>0.999015</td>\n",
       "      <td>0.000112</td>\n",
       "      <td>0.000089</td>\n",
       "      <td>0.000003</td>\n",
       "      <td>0.000001</td>\n",
       "      <td>0.0</td>\n",
       "      <td>0.000003</td>\n",
       "      <td>0.00013</td>\n",
       "      <td>0.000001</td>\n",
       "      <td>0.000058</td>\n",
       "      <td>0.000001</td>\n",
       "      <td>0.000009</td>\n",
       "      <td>0.000003</td>\n",
       "      <td>0.000008</td>\n",
       "      <td>0.000110</td>\n",
       "      <td>0.000001</td>\n",
       "      <td>0.00054</td>\n",
       "    </tr>\n",
       "    <tr>\n",
       "      <th>4</th>\n",
       "      <td>0.000001</td>\n",
       "      <td>0.00001</td>\n",
       "      <td>0.044379</td>\n",
       "      <td>0.999015</td>\n",
       "      <td>0.000112</td>\n",
       "      <td>0.000089</td>\n",
       "      <td>0.000003</td>\n",
       "      <td>0.000001</td>\n",
       "      <td>0.0</td>\n",
       "      <td>0.000003</td>\n",
       "      <td>0.00013</td>\n",
       "      <td>0.000002</td>\n",
       "      <td>0.000057</td>\n",
       "      <td>0.000001</td>\n",
       "      <td>0.000110</td>\n",
       "      <td>0.000110</td>\n",
       "      <td>0.000110</td>\n",
       "      <td>0.000110</td>\n",
       "      <td>0.000001</td>\n",
       "      <td>0.00054</td>\n",
       "    </tr>\n",
       "  </tbody>\n",
       "</table>\n",
       "</div>"
      ],
      "text/plain": [
       "          0        1         2         3         4         5         6  \\\n",
       "0  0.000001  0.00001  0.044379  0.999015  0.000112  0.000061  0.000002   \n",
       "1  0.000001  0.00001  0.044379  0.999015  0.000112  0.000061  0.000002   \n",
       "2  0.000001  0.00001  0.044379  0.999015  0.000112  0.000061  0.000002   \n",
       "3  0.000001  0.00001  0.044379  0.999015  0.000112  0.000089  0.000003   \n",
       "4  0.000001  0.00001  0.044379  0.999015  0.000112  0.000089  0.000003   \n",
       "\n",
       "          7    8         9       10        11        12        13        14  \\\n",
       "0  0.000001  0.0  0.000003  0.00013  0.000001  0.000070  0.000002  0.000004   \n",
       "1  0.000001  0.0  0.000003  0.00013  0.000002  0.000064  0.000002  0.000110   \n",
       "2  0.000001  0.0  0.000003  0.00013  0.000003  0.000034  0.000002  0.000008   \n",
       "3  0.000001  0.0  0.000003  0.00013  0.000001  0.000058  0.000001  0.000009   \n",
       "4  0.000001  0.0  0.000003  0.00013  0.000002  0.000057  0.000001  0.000110   \n",
       "\n",
       "         15        16        17        18       19  \n",
       "0  0.000007  0.000008  0.000004  0.000001  0.00054  \n",
       "1  0.000110  0.000110  0.000110  0.000001  0.00054  \n",
       "2  0.000007  0.000008  0.000004  0.000001  0.00054  \n",
       "3  0.000003  0.000008  0.000110  0.000001  0.00054  \n",
       "4  0.000110  0.000110  0.000110  0.000001  0.00054  "
      ]
     },
     "execution_count": 2,
     "metadata": {},
     "output_type": "execute_result"
    }
   ],
   "source": [
    "path = 'C:/Users/JoseAntonio/Desktop/ENOE/closters/norm2017.csv'\n",
    "X = pnd.read_csv(path, encoding='latin', low_memory=False)\n",
    "X.head()"
   ]
  },
  {
   "cell_type": "markdown",
   "metadata": {},
   "source": [
    "# sampleamos los datos"
   ]
  },
  {
   "cell_type": "code",
   "execution_count": 3,
   "metadata": {},
   "outputs": [
    {
     "data": {
      "text/html": [
       "<div>\n",
       "<style scoped>\n",
       "    .dataframe tbody tr th:only-of-type {\n",
       "        vertical-align: middle;\n",
       "    }\n",
       "\n",
       "    .dataframe tbody tr th {\n",
       "        vertical-align: top;\n",
       "    }\n",
       "\n",
       "    .dataframe thead th {\n",
       "        text-align: right;\n",
       "    }\n",
       "</style>\n",
       "<table border=\"1\" class=\"dataframe\">\n",
       "  <thead>\n",
       "    <tr style=\"text-align: right;\">\n",
       "      <th></th>\n",
       "      <th>0</th>\n",
       "      <th>1</th>\n",
       "      <th>2</th>\n",
       "      <th>3</th>\n",
       "      <th>4</th>\n",
       "      <th>5</th>\n",
       "      <th>6</th>\n",
       "      <th>7</th>\n",
       "      <th>8</th>\n",
       "      <th>9</th>\n",
       "      <th>10</th>\n",
       "      <th>11</th>\n",
       "      <th>12</th>\n",
       "      <th>13</th>\n",
       "      <th>14</th>\n",
       "      <th>15</th>\n",
       "      <th>16</th>\n",
       "      <th>17</th>\n",
       "      <th>18</th>\n",
       "      <th>19</th>\n",
       "    </tr>\n",
       "  </thead>\n",
       "  <tbody>\n",
       "    <tr>\n",
       "      <th>1045953</th>\n",
       "      <td>0.000010</td>\n",
       "      <td>0.00001</td>\n",
       "      <td>0.016081</td>\n",
       "      <td>0.999871</td>\n",
       "      <td>0.000083</td>\n",
       "      <td>0.000008</td>\n",
       "      <td>7.992833e-07</td>\n",
       "      <td>3.996417e-07</td>\n",
       "      <td>0.0</td>\n",
       "      <td>0.000002</td>\n",
       "      <td>0.000167</td>\n",
       "      <td>1.198925e-06</td>\n",
       "      <td>0.000009</td>\n",
       "      <td>3.996417e-07</td>\n",
       "      <td>0.000001</td>\n",
       "      <td>0.000002</td>\n",
       "      <td>0.000003</td>\n",
       "      <td>0.000002</td>\n",
       "      <td>3.996417e-07</td>\n",
       "      <td>0.000042</td>\n",
       "    </tr>\n",
       "    <tr>\n",
       "      <th>358409</th>\n",
       "      <td>0.000006</td>\n",
       "      <td>0.00001</td>\n",
       "      <td>0.041051</td>\n",
       "      <td>0.999157</td>\n",
       "      <td>0.000108</td>\n",
       "      <td>0.000155</td>\n",
       "      <td>9.973349e-07</td>\n",
       "      <td>9.973349e-07</td>\n",
       "      <td>0.0</td>\n",
       "      <td>0.000004</td>\n",
       "      <td>0.000216</td>\n",
       "      <td>1.994670e-06</td>\n",
       "      <td>0.000035</td>\n",
       "      <td>1.994670e-06</td>\n",
       "      <td>0.000004</td>\n",
       "      <td>0.000006</td>\n",
       "      <td>0.000006</td>\n",
       "      <td>0.000004</td>\n",
       "      <td>9.973349e-07</td>\n",
       "      <td>0.000147</td>\n",
       "    </tr>\n",
       "    <tr>\n",
       "      <th>875012</th>\n",
       "      <td>0.000040</td>\n",
       "      <td>0.00001</td>\n",
       "      <td>0.023738</td>\n",
       "      <td>0.999718</td>\n",
       "      <td>0.000095</td>\n",
       "      <td>0.000143</td>\n",
       "      <td>2.847730e-06</td>\n",
       "      <td>4.746217e-07</td>\n",
       "      <td>0.0</td>\n",
       "      <td>0.000002</td>\n",
       "      <td>0.000150</td>\n",
       "      <td>4.746217e-07</td>\n",
       "      <td>0.000021</td>\n",
       "      <td>4.746217e-07</td>\n",
       "      <td>0.000003</td>\n",
       "      <td>0.000003</td>\n",
       "      <td>0.000002</td>\n",
       "      <td>0.000002</td>\n",
       "      <td>9.492435e-07</td>\n",
       "      <td>0.000416</td>\n",
       "    </tr>\n",
       "    <tr>\n",
       "      <th>555046</th>\n",
       "      <td>0.000036</td>\n",
       "      <td>0.00001</td>\n",
       "      <td>0.021757</td>\n",
       "      <td>0.999763</td>\n",
       "      <td>0.000217</td>\n",
       "      <td>0.000126</td>\n",
       "      <td>8.681628e-06</td>\n",
       "      <td>4.340814e-07</td>\n",
       "      <td>0.0</td>\n",
       "      <td>0.000002</td>\n",
       "      <td>0.000094</td>\n",
       "      <td>8.681628e-07</td>\n",
       "      <td>0.000015</td>\n",
       "      <td>8.681628e-07</td>\n",
       "      <td>0.000043</td>\n",
       "      <td>0.000043</td>\n",
       "      <td>0.000043</td>\n",
       "      <td>0.000043</td>\n",
       "      <td>8.681628e-07</td>\n",
       "      <td>0.000099</td>\n",
       "    </tr>\n",
       "    <tr>\n",
       "      <th>272972</th>\n",
       "      <td>0.000068</td>\n",
       "      <td>0.00001</td>\n",
       "      <td>0.047541</td>\n",
       "      <td>0.998869</td>\n",
       "      <td>0.000081</td>\n",
       "      <td>0.000009</td>\n",
       "      <td>7.922786e-07</td>\n",
       "      <td>7.922786e-07</td>\n",
       "      <td>0.0</td>\n",
       "      <td>0.000002</td>\n",
       "      <td>0.000093</td>\n",
       "      <td>7.922786e-07</td>\n",
       "      <td>0.000042</td>\n",
       "      <td>2.376836e-06</td>\n",
       "      <td>0.000004</td>\n",
       "      <td>0.000005</td>\n",
       "      <td>0.000006</td>\n",
       "      <td>0.000003</td>\n",
       "      <td>1.584557e-06</td>\n",
       "      <td>0.000380</td>\n",
       "    </tr>\n",
       "  </tbody>\n",
       "</table>\n",
       "</div>"
      ],
      "text/plain": [
       "                0        1         2         3         4         5  \\\n",
       "1045953  0.000010  0.00001  0.016081  0.999871  0.000083  0.000008   \n",
       "358409   0.000006  0.00001  0.041051  0.999157  0.000108  0.000155   \n",
       "875012   0.000040  0.00001  0.023738  0.999718  0.000095  0.000143   \n",
       "555046   0.000036  0.00001  0.021757  0.999763  0.000217  0.000126   \n",
       "272972   0.000068  0.00001  0.047541  0.998869  0.000081  0.000009   \n",
       "\n",
       "                    6             7    8         9        10            11  \\\n",
       "1045953  7.992833e-07  3.996417e-07  0.0  0.000002  0.000167  1.198925e-06   \n",
       "358409   9.973349e-07  9.973349e-07  0.0  0.000004  0.000216  1.994670e-06   \n",
       "875012   2.847730e-06  4.746217e-07  0.0  0.000002  0.000150  4.746217e-07   \n",
       "555046   8.681628e-06  4.340814e-07  0.0  0.000002  0.000094  8.681628e-07   \n",
       "272972   7.922786e-07  7.922786e-07  0.0  0.000002  0.000093  7.922786e-07   \n",
       "\n",
       "               12            13        14        15        16        17  \\\n",
       "1045953  0.000009  3.996417e-07  0.000001  0.000002  0.000003  0.000002   \n",
       "358409   0.000035  1.994670e-06  0.000004  0.000006  0.000006  0.000004   \n",
       "875012   0.000021  4.746217e-07  0.000003  0.000003  0.000002  0.000002   \n",
       "555046   0.000015  8.681628e-07  0.000043  0.000043  0.000043  0.000043   \n",
       "272972   0.000042  2.376836e-06  0.000004  0.000005  0.000006  0.000003   \n",
       "\n",
       "                   18        19  \n",
       "1045953  3.996417e-07  0.000042  \n",
       "358409   9.973349e-07  0.000147  \n",
       "875012   9.492435e-07  0.000416  \n",
       "555046   8.681628e-07  0.000099  \n",
       "272972   1.584557e-06  0.000380  "
      ]
     },
     "execution_count": 3,
     "metadata": {},
     "output_type": "execute_result"
    }
   ],
   "source": [
    "X = X.sample(frac=0.05, random_state=1)\n",
    "X.head()"
   ]
  },
  {
   "cell_type": "markdown",
   "metadata": {},
   "source": [
    "# realizamos el metodo KMeans"
   ]
  },
  {
   "cell_type": "code",
   "execution_count": 4,
   "metadata": {},
   "outputs": [],
   "source": [
    "X = sk.preprocessing.normalize(X, norm='l2', axis=1, copy=True)"
   ]
  },
  {
   "cell_type": "code",
   "execution_count": 5,
   "metadata": {},
   "outputs": [
    {
     "data": {
      "image/png": "[encoded data removed]",
      "text/plain": [
       "<Figure size 432x288 with 1 Axes>"
      ]
     },
     "metadata": {},
     "output_type": "display_data"
    }
   ],
   "source": [
    "distortions = []\n",
    "\n",
    "for i in range(1,11):\n",
    "    km = KMeans(n_clusters=i,\n",
    "                init='k-means++',\n",
    "                n_init=10,\n",
    "                max_iter=300,\n",
    "                random_state=0)\n",
    "    km.fit(X)\n",
    "    distortions.append(km.inertia_)\n",
    "\n",
    "plt.plot(range(1,11), distortions, marker='o')\n",
    "plt.xlabel('Numero de clusters')\n",
    "plt.ylabel('Distorsión')\n",
    "plt.show()"
   ]
  },
  {
   "cell_type": "code",
   "execution_count": 6,
   "metadata": {},
   "outputs": [],
   "source": [
    "clusters = KMeans(n_clusters=4,\n",
    "                    init='k-means++', \n",
    "                    max_iter=300,\n",
    "                    tol=1e-04,\n",
    "                    n_init=10,\n",
    "                    random_state=0)"
   ]
  },
  {
   "cell_type": "code",
   "execution_count": 7,
   "metadata": {},
   "outputs": [
    {
     "data": {
      "text/plain": [
       "array([0, 0, 0, ..., 0, 0, 0])"
      ]
     },
     "execution_count": 7,
     "metadata": {},
     "output_type": "execute_result"
    }
   ],
   "source": [
    "y_km = clusters.fit_predict(X)\n",
    "y_km"
   ]
  },
  {
   "cell_type": "code",
   "execution_count": 8,
   "metadata": {},
   "outputs": [
    {
     "data": {
      "image/png": "[encoded data removed]",
      "text/plain": [
       "<Figure size 432x288 with 1 Axes>"
      ]
     },
     "metadata": {},
     "output_type": "display_data"
    }
   ],
   "source": [
    "plt.scatter(X[y_km==0,0],\n",
    "          X[y_km==0,1],\n",
    "          s=70,\n",
    "          c='lightgreen',\n",
    "          edgecolor='black',\n",
    "          marker='o',\n",
    "          label='cluster 1')\n",
    "plt.scatter(X[y_km==1,0],\n",
    "          X[y_km==1,1],\n",
    "          s=70,\n",
    "          c='orange',\n",
    "          edgecolor='black',\n",
    "          marker='v',\n",
    "          label='cluster 2')\n",
    "plt.scatter(X[y_km==2,0],\n",
    "          X[y_km==2,1],\n",
    "          s=70,\n",
    "          c='blue',\n",
    "          edgecolor='black',\n",
    "          marker='s',\n",
    "          label='cluster 3')\n",
    "plt.scatter(X[y_km==3,0],\n",
    "          X[y_km==3,1],\n",
    "          s=70,\n",
    "          c='green',\n",
    "          edgecolor='black',\n",
    "          marker='s',\n",
    "          label='cluster 4')\n",
    "plt.scatter(clusters.cluster_centers_[:,0],\n",
    "          clusters.cluster_centers_[:,1],\n",
    "          s=50,\n",
    "          c='red',\n",
    "          marker='*',\n",
    "          label='centroides')\n",
    "\n",
    "plt.legend()\n",
    "plt.grid()\n",
    "plt.show()"
   ]
  },
  {
   "cell_type": "code",
   "execution_count": 9,
   "metadata": {},
   "outputs": [],
   "source": [
    "from sklearn.cluster import Birch"
   ]
  },
  {
   "cell_type": "code",
   "execution_count": 10,
   "metadata": {},
   "outputs": [],
   "source": [
    "brc = Birch(branching_factor=50, n_clusters=None, threshold=0.5,\n",
    "compute_labels=True)"
   ]
  },
  {
   "cell_type": "code",
   "execution_count": 11,
   "metadata": {},
   "outputs": [
    {
     "data": {
      "text/plain": [
       "Birch(branching_factor=50, compute_labels=True, copy=True, n_clusters=None,\n",
       "   threshold=0.5)"
      ]
     },
     "execution_count": 11,
     "metadata": {},
     "output_type": "execute_result"
    }
   ],
   "source": [
    "brc.fit(X)"
   ]
  },
  {
   "cell_type": "code",
   "execution_count": 12,
   "metadata": {},
   "outputs": [
    {
     "data": {
      "text/plain": [
       "array([0, 0, 0, ..., 0, 0, 0])"
      ]
     },
     "execution_count": 12,
     "metadata": {},
     "output_type": "execute_result"
    }
   ],
   "source": [
    "brc.predict(X)"
   ]
  },
  {
   "cell_type": "code",
   "execution_count": 13,
   "metadata": {},
   "outputs": [
    {
     "data": {
      "image/png": "[encoded data removed]",
      "text/plain": [
       "<Figure size 432x288 with 1 Axes>"
      ]
     },
     "metadata": {},
     "output_type": "display_data"
    }
   ],
   "source": [
    "c = brc.subcluster_centers_\n",
    "plt.plot(X[:,0], X[:,1], '+')\n",
    "plt.plot(c[:,0], c[:,1], 'o')\n",
    "plt.show()"
   ]
  },
  {
   "cell_type": "markdown",
   "metadata": {},
   "source": [
    "# Aplicamos PCA al KMeans"
   ]
  },
  {
   "cell_type": "code",
   "execution_count": 14,
   "metadata": {},
   "outputs": [],
   "source": [
    "from sklearn import decomposition"
   ]
  },
  {
   "cell_type": "code",
   "execution_count": 15,
   "metadata": {},
   "outputs": [],
   "source": [
    "pca = decomposition.PCA(n_components=4)\n",
    "pca.fit(X)\n",
    "X = pca.transform(X)"
   ]
  },
  {
   "cell_type": "code",
   "execution_count": 16,
   "metadata": {},
   "outputs": [
    {
     "data": {
      "image/png": "[encoded data removed]",
      "text/plain": [
       "<Figure size 432x288 with 1 Axes>"
      ]
     },
     "metadata": {},
     "output_type": "display_data"
    }
   ],
   "source": [
    "plt.scatter(X[y_km==0,0],\n",
    "          X[y_km==0,1],\n",
    "          s=70,\n",
    "          c='lightgreen',\n",
    "          edgecolor='black',\n",
    "          marker='o',\n",
    "          label='cluster 1')\n",
    "plt.scatter(X[y_km==1,0],\n",
    "          X[y_km==1,1],\n",
    "          s=70,\n",
    "          c='orange',\n",
    "          edgecolor='black',\n",
    "          marker='v',\n",
    "          label='cluster 2')\n",
    "plt.scatter(X[y_km==2,0],\n",
    "          X[y_km==2,1],\n",
    "          s=70,\n",
    "          c='blue',\n",
    "          edgecolor='black',\n",
    "          marker='s',\n",
    "          label='cluster 3')\n",
    "plt.scatter(X[y_km==3,0],\n",
    "          X[y_km==3,1],\n",
    "          s=70,\n",
    "          c='green',\n",
    "          edgecolor='black',\n",
    "          marker='s',\n",
    "          label='cluster 4')\n",
    "plt.scatter(clusters.cluster_centers_[:,0],\n",
    "          clusters.cluster_centers_[:,1],\n",
    "          s=50,\n",
    "          c='red',\n",
    "          marker='*',\n",
    "          label='centroides')\n",
    "\n",
    "plt.legend()\n",
    "plt.grid()\n",
    "plt.show()"
   ]
  },
  {
   "cell_type": "markdown",
   "metadata": {},
   "source": [
    "# Aplicamos PCA al BIRCH"
   ]
  },
  {
   "cell_type": "code",
   "execution_count": 17,
   "metadata": {},
   "outputs": [
    {
     "data": {
      "image/png": "[encoded data removed]",
      "text/plain": [
       "<Figure size 432x288 with 1 Axes>"
      ]
     },
     "metadata": {},
     "output_type": "display_data"
    }
   ],
   "source": [
    "c = brc.subcluster_centers_\n",
    "plt.plot(X[:,0], X[:,1], '+')\n",
    "plt.plot(c[:,0], c[:,1], 'o')\n",
    "plt.show()"
   ]
  },
  {
   "cell_type": "code",
   "execution_count": null,
   "metadata": {},
   "outputs": [],
   "source": []
  }
 ],
 "metadata": {
  "kernelspec": {
   "display_name": "Python 3",
   "language": "python",
   "name": "python3"
  },
  "language_info": {
   "codemirror_mode": {
    "name": "ipython",
    "version": 3
   },
   "file_extension": ".py",
   "mimetype": "text/x-python",
   "name": "python",
   "nbconvert_exporter": "python",
   "pygments_lexer": "ipython3",
   "version": "3.6.5"
  }
 },
 "nbformat": 4,
 "nbformat_minor": 2
}
